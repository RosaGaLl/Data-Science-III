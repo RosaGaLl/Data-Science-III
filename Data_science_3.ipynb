{
  "cells": [
    {
      "cell_type": "markdown",
      "metadata": {
        "id": "view-in-github",
        "colab_type": "text"
      },
      "source": [
        "<a href=\"https://colab.research.google.com/github/RosaGaLl/Data-Science-III/blob/main/Data_science_3.ipynb\" target=\"_parent\"><img src=\"https://colab.research.google.com/assets/colab-badge.svg\" alt=\"Open In Colab\"/></a>"
      ]
    },
    {
      "cell_type": "markdown",
      "metadata": {
        "id": "bFn0say4E69h"
      },
      "source": [
        "# **MNIST digits classification dataset**\n"
      ]
    },
    {
      "cell_type": "markdown",
      "metadata": {
        "id": "od3YvCYvFssf"
      },
      "source": [
        "## **1. Descripción del problema de negocio**"
      ]
    },
    {
      "cell_type": "markdown",
      "metadata": {
        "id": "accLn6F_kQcX"
      },
      "source": [
        "El presente dataset recopila las opiniones de los usuarios sobre películas, las cuales pueden influir considerablemente en las decisiones de otros usuarios al momento de elegir una película nueva.Puesto que, si ahondamos más en estas reseñas podemos deducir que contienen valiosos sentimientos que reflejan la opinión de los espectadores.\n",
        "\n",
        "Considerando ello, el contar con un sistema automático de análisis de sentimientos puede ayudar a plataformas de streaming, productoras o sitios de críticas a conocer la percepción general del público ante las películas vistas. Asimismo, el poder analizar estos textos y clasificarlos como positivos o negativos permite a estas mismas empresas entender mejor la recepción de los productos cinematográficos que se ofrecen, incluso se podrían ajustar estrategias de marketing o incluso ayudar a sus sistemas de recomendación."
      ]
    },
    {
      "cell_type": "markdown",
      "metadata": {
        "id": "0WVSEikoYzUu"
      },
      "source": [
        "## **2. Objetivo general**"
      ]
    },
    {
      "cell_type": "markdown",
      "metadata": {
        "id": "1w8yGRC4owpi"
      },
      "source": [
        "El objetivo general de este proyecto es poder construir y mejorar\n",
        "una red neuronal profunda que permita clasificar automáticamente las reseñas de películas como positivas o negativas, utilizando el dataset.\n",
        "Y para ello, se usarán técnicas de Deep Learning aplicadas a Procesamiento de Lenguaje Natural (NLP), lo que permitirá que sea posible poder automatizar los análisis de los comentarios de las películas."
      ]
    },
    {
      "cell_type": "markdown",
      "metadata": {
        "id": "MPMp_oJCoZud"
      },
      "source": [
        "## **3.Origen de los datos**"
      ]
    },
    {
      "cell_type": "markdown",
      "metadata": {
        "id": "2VJuijBCoZk-"
      },
      "source": [
        "El dataset a usar se encuentra disponible directamente en Keras.Este contiene 25000 reseñas de entrenamiento y 25000 de prueba, etiquetadas como positivas = 1 o negativas =0. Las reseñas ya están preprocesadas y tokenizadas como secuencias de índices de palabras, lo cual nos permite obtener un análisis más detallado."
      ]
    },
    {
      "cell_type": "markdown",
      "metadata": {
        "id": "UnNsqrdjo2WQ"
      },
      "source": [
        "## **4. Definición de las variables**\n"
      ]
    },
    {
      "cell_type": "markdown",
      "metadata": {
        "id": "rHHQL-dgo-AJ"
      },
      "source": [
        "\n",
        "*   x_train, x_test: Listas de secuencias de enteros, donde cada entero representa una palabra\n",
        "*   y_train, y_test: Listas de etiquetas binarias las cuales son: 0 = negativo y 1 = positivo\n",
        "*   num_words: Número de palabras más frecuentes que se conservarán en el vocabulario.\n",
        "*   Longitud de las secuencias: Se da a conocer un maxlen para uniformar la longitud de entrada.\n",
        "*  Las reseñas se encuentran tokenizadas\n",
        "\n"
      ]
    },
    {
      "cell_type": "markdown",
      "metadata": {
        "id": "L1V9Dh6LY-tK"
      },
      "source": [
        "## **5.Librerías a usar en el proyecto**"
      ]
    },
    {
      "cell_type": "markdown",
      "metadata": {
        "id": "b3I0WHc-vmdx"
      },
      "source": [
        "Instalación de Librerías"
      ]
    },
    {
      "cell_type": "code",
      "execution_count": null,
      "metadata": {
        "colab": {
          "background_save": true
        },
        "id": "NAWQ6LqKjaBV"
      },
      "outputs": [],
      "source": [
        "import numpy as np\n",
        "import matplotlib.pyplot as plt\n",
        "import seaborn as sns\n",
        "from tensorflow.keras.datasets import imdb\n",
        "from tensorflow.keras.preprocessing.sequence import pad_sequences\n",
        "from tensorflow.keras.models import Sequential\n",
        "from tensorflow.keras.layers import Embedding, Dense, LSTM, Conv1D, MaxPooling1D, Dropout\n",
        "from tensorflow.keras.preprocessing.text import Tokenizer\n",
        "from wordcloud import WordCloud\n",
        "import nltk\n",
        "from nltk.corpus import stopwords\n",
        "from nltk.stem import PorterStemmer\n",
        "\n",
        "\n"
      ]
    },
    {
      "cell_type": "markdown",
      "metadata": {
        "id": "5qCcHgdApVrU"
      },
      "source": [
        "## **6.Desarrollo**"
      ]
    },
    {
      "cell_type": "markdown",
      "metadata": {
        "id": "TB-c90hFrB6Y"
      },
      "source": [
        "**a) Carga del dataset**"
      ]
    },
    {
      "cell_type": "code",
      "execution_count": 2,
      "metadata": {
        "id": "6HK1vDbPrNKO",
        "colab": {
          "base_uri": "https://localhost:8080/"
        },
        "outputId": "f83d784c-4d88-4151-ac31-f6743133b21a"
      },
      "outputs": [
        {
          "output_type": "stream",
          "name": "stdout",
          "text": [
            "Downloading data from https://storage.googleapis.com/tensorflow/tf-keras-datasets/imdb.npz\n",
            "\u001b[1m17464789/17464789\u001b[0m \u001b[32m━━━━━━━━━━━━━━━━━━━━\u001b[0m\u001b[37m\u001b[0m \u001b[1m0s\u001b[0m 0us/step\n"
          ]
        }
      ],
      "source": [
        "#Se carga el dataset con solo las 10000 palabras más frecuentes para tener un análisis más profundo y detallado\n",
        "num_words = 10000\n",
        "(x_train, y_train), (x_test, y_test) = imdb.load_data(num_words=num_words)\n",
        "\n",
        "\n",
        "# Es la longitud máxima de secuencia de las reseñas que se tienen\n",
        "maxlen = 200\n",
        "x_train = pad_sequences(x_train, maxlen=maxlen)\n",
        "x_test = pad_sequences(x_test, maxlen=maxlen)\n"
      ]
    },
    {
      "cell_type": "markdown",
      "metadata": {
        "id": "V2vA9sStrRui"
      },
      "source": [
        "**b) Análisis exploratorio del dataset**"
      ]
    },
    {
      "cell_type": "markdown",
      "source": [
        "Se conoce la reseña del dataset, la cual pasará a ser procesada mostrando a los datos en su forma numérica codificada."
      ],
      "metadata": {
        "id": "5eXqLJjD7e7I"
      }
    },
    {
      "cell_type": "code",
      "execution_count": 8,
      "metadata": {
        "colab": {
          "base_uri": "https://localhost:8080/"
        },
        "id": "2uxL4-uIB2pl",
        "outputId": "827c6b34-c606-4d87-fdc7-28101bddc336"
      },
      "outputs": [
        {
          "output_type": "stream",
          "name": "stdout",
          "text": [
            "Downloading data from https://storage.googleapis.com/tensorflow/tf-keras-datasets/imdb_word_index.json\n",
            "\u001b[1m1641221/1641221\u001b[0m \u001b[32m━━━━━━━━━━━━━━━━━━━━\u001b[0m\u001b[37m\u001b[0m \u001b[1m0s\u001b[0m 0us/step\n",
            "and you could just imagine being there robert <OOV> is an amazing actor and now the same being director <OOV> father came from the same scottish island as myself so i loved the fact there was a real connection with this film the witty remarks throughout the film were great it was just brilliant so much that i bought the film as soon as it was released for <OOV> and would recommend it to everyone to watch and the fly fishing was amazing really cried at the end it was so sad and you know what they say if you cry at a film it must have been good and this definitely was also <OOV> to the two little boy's that played the <OOV> of norman and paul they were just brilliant children are often left out of the <OOV> list i think because the stars that play them all grown up are such a big profile for the whole film but these children are amazing and should be praised for what they have done don't you think the whole story was so lovely because it was true and was someone's life after all that was shared with us all\n"
          ]
        }
      ],
      "source": [
        "word_index = imdb.get_word_index()\n",
        "index_from = 3\n",
        "word_index = {k:(v+index_from) for k,v in word_index.items()}\n",
        "word_index[\"<PAD>\"] = 0\n",
        "word_index[\"<START>\"] = 1\n",
        "word_index[\"<OOV>\"] = 2\n",
        "reverse_index = {v:k for k,v in word_index.items()}\n",
        "decoded_review = ' '.join([reverse_index.get(i, \"?\") for i in x_train[0]])\n",
        "print(decoded_review)\n"
      ]
    },
    {
      "cell_type": "code",
      "execution_count": 4,
      "metadata": {
        "colab": {
          "base_uri": "https://localhost:8080/"
        },
        "id": "uIx88MAcrQB0",
        "outputId": "612e3e84-a6fb-4701-8e57-db8d784c23fb"
      },
      "outputs": [
        {
          "output_type": "stream",
          "name": "stdout",
          "text": [
            "Número de reseñas de entrenamiento: 25000\n",
            "Número de reseñas de prueba: 25000\n",
            "Longitud media de las reseñas: 200.00\n",
            "Distribución de clases en entrenamiento: (array([0, 1]), array([12500, 12500]))\n"
          ]
        }
      ],
      "source": [
        "#Información que se tiene del dataset\n",
        "print(f\"Número de reseñas de entrenamiento: {len(x_train)}\")\n",
        "print(f\"Número de reseñas de prueba: {len(x_test)}\")\n",
        "print(f\"Longitud media de las reseñas: {np.mean([len(x) for x in x_train]):.2f}\")\n",
        "print(f\"Distribución de clases en entrenamiento: {np.unique(y_train, return_counts=True)}\")\n"
      ]
    },
    {
      "cell_type": "markdown",
      "metadata": {
        "id": "v2-fayNsrZHl"
      },
      "source": [
        "Se muestra que en el dataset:\n",
        "1.Las clases están balanceadas en 50% positivas y 50% negativas.\n",
        "2.Las reseñas tienen longitudes variadas.\n",
        "3.Solo las 10000 palabras más frecuentes se usan para reducir complejidad de análisis."
      ]
    },
    {
      "cell_type": "markdown",
      "source": [
        "*Se puede mostrar un ejemplo de las reseñas en la siguiente información*"
      ],
      "metadata": {
        "id": "TMv6OXRU4LmJ"
      }
    },
    {
      "cell_type": "code",
      "execution_count": 6,
      "metadata": {
        "colab": {
          "base_uri": "https://localhost:8080/"
        },
        "id": "Ggow9Gg3xZuh",
        "outputId": "7af17a18-59b9-48ee-9c14-7f346abba6c6"
      },
      "outputs": [
        {
          "output_type": "stream",
          "name": "stdout",
          "text": [
            "Ejemplo de reseña (como secuencia de índices):\n",
            "[   5   25  100   43  838  112   50  670    2    9   35  480  284    5\n",
            "  150    4  172  112  167    2  336  385   39    4  172 4536 1111   17\n",
            "  546   38   13  447    4  192   50   16    6  147 2025   19   14   22\n",
            "    4 1920 4613  469    4   22   71   87   12   16   43  530   38   76\n",
            "   15   13 1247    4   22   17  515   17   12   16  626   18    2    5\n",
            "   62  386   12    8  316    8  106    5    4 2223 5244   16  480   66\n",
            " 3785   33    4  130   12   16   38  619    5   25  124   51   36  135\n",
            "   48   25 1415   33    6   22   12  215   28   77   52    5   14  407\n",
            "   16   82    2    8    4  107  117 5952   15  256    4    2    7 3766\n",
            "    5  723   36   71   43  530  476   26  400  317   46    7    4    2\n",
            " 1029   13  104   88    4  381   15  297   98   32 2071   56   26  141\n",
            "    6  194 7486   18    4  226   22   21  134  476   26  480    5  144\n",
            "   30 5535   18   51   36   28  224   92   25  104    4  226   65   16\n",
            "   38 1334   88   12   16  283    5   16 4472  113  103   32   15   16\n",
            " 5345   19  178   32]\n",
            "Etiqueta (0=negativa, 1=positiva): 1\n"
          ]
        }
      ],
      "source": [
        "print(f\"Ejemplo de reseña (como secuencia de índices):\\n{x_train[0]}\")\n",
        "print(f\"Etiqueta (0=negativa, 1=positiva): {y_train[0]}\")\n"
      ]
    },
    {
      "cell_type": "markdown",
      "metadata": {
        "id": "AJkWRSoJriMH"
      },
      "source": [
        "**c) Desarrollo de la red neuronal**"
      ]
    },
    {
      "cell_type": "markdown",
      "source": [
        "Se muestra la red neuronal para clasificación binaria"
      ],
      "metadata": {
        "id": "EuSt16kF85Gx"
      }
    },
    {
      "cell_type": "code",
      "execution_count": null,
      "metadata": {
        "colab": {
          "base_uri": "https://localhost:8080/",
          "height": 292
        },
        "id": "MehsU8B7CBNm",
        "outputId": "b005503a-424b-4c91-dfe8-a01e92a960c0"
      },
      "outputs": [
        {
          "name": "stderr",
          "output_type": "stream",
          "text": [
            "/usr/local/lib/python3.11/dist-packages/keras/src/layers/core/embedding.py:90: UserWarning: Argument `input_length` is deprecated. Just remove it.\n",
            "  warnings.warn(\n"
          ]
        },
        {
          "data": {
            "text/html": [
              "<pre style=\"white-space:pre;overflow-x:auto;line-height:normal;font-family:Menlo,'DejaVu Sans Mono',consolas,'Courier New',monospace\"><span style=\"font-weight: bold\">Model: \"sequential\"</span>\n",
              "</pre>\n"
            ],
            "text/plain": [
              "\u001b[1mModel: \"sequential\"\u001b[0m\n"
            ]
          },
          "metadata": {},
          "output_type": "display_data"
        },
        {
          "data": {
            "text/html": [
              "<pre style=\"white-space:pre;overflow-x:auto;line-height:normal;font-family:Menlo,'DejaVu Sans Mono',consolas,'Courier New',monospace\">┏━━━━━━━━━━━━━━━━━━━━━━━━━━━━━━━━━┳━━━━━━━━━━━━━━━━━━━━━━━━┳━━━━━━━━━━━━━━━┓\n",
              "┃<span style=\"font-weight: bold\"> Layer (type)                    </span>┃<span style=\"font-weight: bold\"> Output Shape           </span>┃<span style=\"font-weight: bold\">       Param # </span>┃\n",
              "┡━━━━━━━━━━━━━━━━━━━━━━━━━━━━━━━━━╇━━━━━━━━━━━━━━━━━━━━━━━━╇━━━━━━━━━━━━━━━┩\n",
              "│ embedding (<span style=\"color: #0087ff; text-decoration-color: #0087ff\">Embedding</span>)           │ ?                      │   <span style=\"color: #00af00; text-decoration-color: #00af00\">0</span> (unbuilt) │\n",
              "├─────────────────────────────────┼────────────────────────┼───────────────┤\n",
              "│ flatten (<span style=\"color: #0087ff; text-decoration-color: #0087ff\">Flatten</span>)               │ ?                      │   <span style=\"color: #00af00; text-decoration-color: #00af00\">0</span> (unbuilt) │\n",
              "├─────────────────────────────────┼────────────────────────┼───────────────┤\n",
              "│ dense (<span style=\"color: #0087ff; text-decoration-color: #0087ff\">Dense</span>)                   │ ?                      │   <span style=\"color: #00af00; text-decoration-color: #00af00\">0</span> (unbuilt) │\n",
              "├─────────────────────────────────┼────────────────────────┼───────────────┤\n",
              "│ dense_1 (<span style=\"color: #0087ff; text-decoration-color: #0087ff\">Dense</span>)                 │ ?                      │   <span style=\"color: #00af00; text-decoration-color: #00af00\">0</span> (unbuilt) │\n",
              "└─────────────────────────────────┴────────────────────────┴───────────────┘\n",
              "</pre>\n"
            ],
            "text/plain": [
              "┏━━━━━━━━━━━━━━━━━━━━━━━━━━━━━━━━━┳━━━━━━━━━━━━━━━━━━━━━━━━┳━━━━━━━━━━━━━━━┓\n",
              "┃\u001b[1m \u001b[0m\u001b[1mLayer (type)                   \u001b[0m\u001b[1m \u001b[0m┃\u001b[1m \u001b[0m\u001b[1mOutput Shape          \u001b[0m\u001b[1m \u001b[0m┃\u001b[1m \u001b[0m\u001b[1m      Param #\u001b[0m\u001b[1m \u001b[0m┃\n",
              "┡━━━━━━━━━━━━━━━━━━━━━━━━━━━━━━━━━╇━━━━━━━━━━━━━━━━━━━━━━━━╇━━━━━━━━━━━━━━━┩\n",
              "│ embedding (\u001b[38;5;33mEmbedding\u001b[0m)           │ ?                      │   \u001b[38;5;34m0\u001b[0m (unbuilt) │\n",
              "├─────────────────────────────────┼────────────────────────┼───────────────┤\n",
              "│ flatten (\u001b[38;5;33mFlatten\u001b[0m)               │ ?                      │   \u001b[38;5;34m0\u001b[0m (unbuilt) │\n",
              "├─────────────────────────────────┼────────────────────────┼───────────────┤\n",
              "│ dense (\u001b[38;5;33mDense\u001b[0m)                   │ ?                      │   \u001b[38;5;34m0\u001b[0m (unbuilt) │\n",
              "├─────────────────────────────────┼────────────────────────┼───────────────┤\n",
              "│ dense_1 (\u001b[38;5;33mDense\u001b[0m)                 │ ?                      │   \u001b[38;5;34m0\u001b[0m (unbuilt) │\n",
              "└─────────────────────────────────┴────────────────────────┴───────────────┘\n"
            ]
          },
          "metadata": {},
          "output_type": "display_data"
        },
        {
          "data": {
            "text/html": [
              "<pre style=\"white-space:pre;overflow-x:auto;line-height:normal;font-family:Menlo,'DejaVu Sans Mono',consolas,'Courier New',monospace\"><span style=\"font-weight: bold\"> Total params: </span><span style=\"color: #00af00; text-decoration-color: #00af00\">0</span> (0.00 B)\n",
              "</pre>\n"
            ],
            "text/plain": [
              "\u001b[1m Total params: \u001b[0m\u001b[38;5;34m0\u001b[0m (0.00 B)\n"
            ]
          },
          "metadata": {},
          "output_type": "display_data"
        },
        {
          "data": {
            "text/html": [
              "<pre style=\"white-space:pre;overflow-x:auto;line-height:normal;font-family:Menlo,'DejaVu Sans Mono',consolas,'Courier New',monospace\"><span style=\"font-weight: bold\"> Trainable params: </span><span style=\"color: #00af00; text-decoration-color: #00af00\">0</span> (0.00 B)\n",
              "</pre>\n"
            ],
            "text/plain": [
              "\u001b[1m Trainable params: \u001b[0m\u001b[38;5;34m0\u001b[0m (0.00 B)\n"
            ]
          },
          "metadata": {},
          "output_type": "display_data"
        },
        {
          "data": {
            "text/html": [
              "<pre style=\"white-space:pre;overflow-x:auto;line-height:normal;font-family:Menlo,'DejaVu Sans Mono',consolas,'Courier New',monospace\"><span style=\"font-weight: bold\"> Non-trainable params: </span><span style=\"color: #00af00; text-decoration-color: #00af00\">0</span> (0.00 B)\n",
              "</pre>\n"
            ],
            "text/plain": [
              "\u001b[1m Non-trainable params: \u001b[0m\u001b[38;5;34m0\u001b[0m (0.00 B)\n"
            ]
          },
          "metadata": {},
          "output_type": "display_data"
        }
      ],
      "source": [
        "model = keras.Sequential([\n",
        "keras.layers.Embedding(input_dim=num_words, output_dim=32, input_length=maxlen),\n",
        "keras.layers.Flatten(),\n",
        "keras.layers.Dense(16, activation='relu'),\n",
        "keras.layers.Dense(1, activation='sigmoid')  # Salida binaria\n",
        "])\n",
        "\n",
        "model.compile(optimizer='adam', loss='binary_crossentropy', metrics=['accuracy'])\n",
        "model.summary()\n"
      ]
    },
    {
      "cell_type": "code",
      "execution_count": 3,
      "metadata": {
        "colab": {
          "base_uri": "https://localhost:8080/"
        },
        "id": "aE3-PllbrP6m",
        "outputId": "e79d52e7-1cdb-4820-fce6-6bf543d324a3"
      },
      "outputs": [
        {
          "output_type": "stream",
          "name": "stderr",
          "text": [
            "/usr/local/lib/python3.11/dist-packages/keras/src/layers/core/embedding.py:90: UserWarning: Argument `input_length` is deprecated. Just remove it.\n",
            "  warnings.warn(\n"
          ]
        },
        {
          "output_type": "stream",
          "name": "stdout",
          "text": [
            "Epoch 1/3\n",
            "\u001b[1m313/313\u001b[0m \u001b[32m━━━━━━━━━━━━━━━━━━━━\u001b[0m\u001b[37m\u001b[0m \u001b[1m54s\u001b[0m 161ms/step - accuracy: 0.7146 - loss: 0.5425 - val_accuracy: 0.8678 - val_loss: 0.3158\n",
            "Epoch 2/3\n",
            "\u001b[1m313/313\u001b[0m \u001b[32m━━━━━━━━━━━━━━━━━━━━\u001b[0m\u001b[37m\u001b[0m \u001b[1m51s\u001b[0m 163ms/step - accuracy: 0.9053 - loss: 0.2398 - val_accuracy: 0.8700 - val_loss: 0.3121\n",
            "Epoch 3/3\n",
            "\u001b[1m313/313\u001b[0m \u001b[32m━━━━━━━━━━━━━━━━━━━━\u001b[0m\u001b[37m\u001b[0m \u001b[1m81s\u001b[0m 158ms/step - accuracy: 0.9299 - loss: 0.1961 - val_accuracy: 0.8426 - val_loss: 0.3696\n"
          ]
        }
      ],
      "source": [
        "# Se empieza a definir la arquitectura del modelo con capas adicionales, se usa la capa convolucional para captar patrones locales,capa densa y la capa de salida binaria\n",
        "model = Sequential([\n",
        "    Embedding(input_dim=num_words, output_dim=64, input_length=maxlen),\n",
        "    LSTM(64),  # capa recurrente\n",
        "    Dense(1, activation='sigmoid')\n",
        "])\n",
        "\n",
        "# Se compila el modelo para entrenar la red neuronal\n",
        "model.compile(loss='binary_crossentropy', optimizer='adam', metrics=['accuracy'])\n",
        "history = model.fit(x_train, y_train, epochs=3, batch_size=64, validation_split=0.2)\n"
      ]
    },
    {
      "cell_type": "markdown",
      "source": [
        "Se usa en el entrenamiento un validation_split=0.2 porque se usará solo el 20% del entrenamiento para la validación"
      ],
      "metadata": {
        "id": "sLcsEL5X1mk0"
      }
    },
    {
      "cell_type": "markdown",
      "metadata": {
        "id": "wUU6pDp_rmCP"
      },
      "source": [
        "**d) Evaluación**"
      ]
    },
    {
      "cell_type": "markdown",
      "source": [
        "Se sigue con la evaluación en el conjunto de test"
      ],
      "metadata": {
        "id": "Dyj3lI8x2I4H"
      }
    },
    {
      "cell_type": "code",
      "execution_count": null,
      "metadata": {
        "colab": {
          "base_uri": "https://localhost:8080/"
        },
        "id": "_zR_0NtprPy-",
        "outputId": "0bce9804-0594-41ef-eacb-6d9879a4a65f"
      },
      "outputs": [
        {
          "name": "stdout",
          "output_type": "stream",
          "text": [
            "\u001b[1m782/782\u001b[0m \u001b[32m━━━━━━━━━━━━━━━━━━━━\u001b[0m\u001b[37m\u001b[0m \u001b[1m22s\u001b[0m 28ms/step - accuracy: 0.8647 - loss: 0.3410\n",
            "Precisión en test: 86.66%\n"
          ]
        }
      ],
      "source": [
        "results = model.evaluate(x_test, y_test)\n",
        "print(f\"Precisión en test: {results[1]*100:.2f}%\")\n"
      ]
    },
    {
      "cell_type": "markdown",
      "source": [
        "**e) Visualización**"
      ],
      "metadata": {
        "id": "2eKOnPrq2YfF"
      }
    },
    {
      "cell_type": "code",
      "source": [
        "# Se presenta mediante los gráficos el rendimiento del entrenamiento\n",
        "plt.plot(history.history['accuracy'], label='Entrenamiento')\n",
        "plt.plot(history.history['val_accuracy'], label='Validación')\n",
        "plt.xlabel('Época')\n",
        "plt.ylabel('Precisión')\n",
        "plt.legend()\n",
        "plt.title('Precisión durante el entrenamiento')\n",
        "plt.show()"
      ],
      "metadata": {
        "colab": {
          "base_uri": "https://localhost:8080/",
          "height": 474
        },
        "id": "npmO4Io12ib1",
        "outputId": "781fede1-454b-48fc-d61c-67b69e903760"
      },
      "execution_count": 5,
      "outputs": [
        {
          "output_type": "display_data",
          "data": {
            "text/plain": [
              "<Figure size 640x480 with 1 Axes>"
            ],
            "image/png": "[encoded data removed]"
          },
          "metadata": {}
        }
      ]
    },
    {
      "cell_type": "markdown",
      "source": [
        "Se analiza del gráfico que:\n",
        "1. La precisión en el entrenamiento:\n",
        " Se aumenta consistentemente de aprox 80 % a más de 92%, lo cual es esperado ya que el modelo va aprendiendo sobre los datos de entrenamiento.\n",
        "2. Precisión en validación:\n",
        " Esta se estabiliza y luego disminuye, puesto que indica que el modelo empieza a sobreajustarse o overfitting a partir de la 3ra época.\n",
        "\n",
        "Lo que se concluiría en que el modelo aprende bien los datos de entrenamiento, pero al parecer pierde capacidad de generalizar datos nuevos."
      ],
      "metadata": {
        "id": "zaN7imeW3OrM"
      }
    },
    {
      "cell_type": "markdown",
      "metadata": {
        "id": "-heoKF4Hs3_p"
      },
      "source": [
        "## **7. Profundización en Deep Learning**"
      ]
    },
    {
      "cell_type": "markdown",
      "source": [
        "Se agregan más capas como el Dropout para regularización, una capa Conv1D en conjunto con maxPooling y mayor número de unidades en LSTM. Como se observa a continuación:"
      ],
      "metadata": {
        "id": "0PwTQSw14ukZ"
      }
    },
    {
      "cell_type": "code",
      "execution_count": null,
      "metadata": {
        "colab": {
          "base_uri": "https://localhost:8080/"
        },
        "id": "J-xcmX-RtIHG",
        "outputId": "591c3591-94db-4cff-f1e7-d073e75fae06"
      },
      "outputs": [
        {
          "name": "stdout",
          "output_type": "stream",
          "text": [
            "Epoch 1/5\n",
            "\u001b[1m313/313\u001b[0m \u001b[32m━━━━━━━━━━━━━━━━━━━━\u001b[0m\u001b[37m\u001b[0m \u001b[1m62s\u001b[0m 180ms/step - accuracy: 0.6531 - loss: 0.5864 - val_accuracy: 0.8658 - val_loss: 0.3518\n",
            "Epoch 2/5\n",
            "\u001b[1m313/313\u001b[0m \u001b[32m━━━━━━━━━━━━━━━━━━━━\u001b[0m\u001b[37m\u001b[0m \u001b[1m58s\u001b[0m 187ms/step - accuracy: 0.8986 - loss: 0.2771 - val_accuracy: 0.8652 - val_loss: 0.3263\n",
            "Epoch 3/5\n",
            "\u001b[1m313/313\u001b[0m \u001b[32m━━━━━━━━━━━━━━━━━━━━\u001b[0m\u001b[37m\u001b[0m \u001b[1m80s\u001b[0m 182ms/step - accuracy: 0.9337 - loss: 0.1911 - val_accuracy: 0.8780 - val_loss: 0.2987\n",
            "Epoch 4/5\n",
            "\u001b[1m313/313\u001b[0m \u001b[32m━━━━━━━━━━━━━━━━━━━━\u001b[0m\u001b[37m\u001b[0m \u001b[1m59s\u001b[0m 188ms/step - accuracy: 0.9607 - loss: 0.1256 - val_accuracy: 0.8750 - val_loss: 0.3665\n",
            "Epoch 5/5\n",
            "\u001b[1m313/313\u001b[0m \u001b[32m━━━━━━━━━━━━━━━━━━━━\u001b[0m\u001b[37m\u001b[0m \u001b[1m83s\u001b[0m 193ms/step - accuracy: 0.9703 - loss: 0.0939 - val_accuracy: 0.8718 - val_loss: 0.3806\n"
          ]
        }
      ],
      "source": [
        "model_dl = Sequential([\n",
        "Embedding(input_dim=num_words, output_dim=64, input_length=maxlen),\n",
        "Conv1D(64, 5, activation='relu'),\n",
        "MaxPooling1D(pool_size=2),\n",
        "LSTM(64, dropout=0.2, recurrent_dropout=0.2),\n",
        "Dense(64, activation='relu'),\n",
        "Dropout(0.5),\n",
        "Dense(1, activation='sigmoid')\n",
        "])\n",
        "\n",
        "\n",
        "model_dl.compile(loss='binary_crossentropy', optimizer='adam', metrics=['accuracy'])\n",
        "\n",
        "\n",
        "history_dl = model_dl.fit(x_train, y_train, epochs=5, batch_size=64, validation_split=0.2)\n",
        "\n"
      ]
    },
    {
      "cell_type": "markdown",
      "source": [
        "Se determina o concluye que la precisión de entrenamiento sigue subiendo,en el caso de la precisión de validación esta se estanca e incluso baja levemente.\n",
        "Lo cual, nos confirma el sobreajuste; es decir ; el modelo está memorizando los datos de entrenamiento, no aprendiendo patrones generalizables.\n",
        "\n",
        "\n",
        "\n"
      ],
      "metadata": {
        "id": "uizZvKkH4_RX"
      }
    },
    {
      "cell_type": "markdown",
      "metadata": {
        "id": "vXWqFs7Zr_Yw"
      },
      "source": [
        "***Comparación de resultados***"
      ]
    },
    {
      "cell_type": "code",
      "execution_count": null,
      "metadata": {
        "colab": {
          "base_uri": "https://localhost:8080/"
        },
        "id": "VW2NHLIMzhwr",
        "outputId": "f6e6c246-27c5-4eb7-960b-11b3ef21f6ea"
      },
      "outputs": [
        {
          "name": "stdout",
          "output_type": "stream",
          "text": [
            "\u001b[1m782/782\u001b[0m \u001b[32m━━━━━━━━━━━━━━━━━━━━\u001b[0m\u001b[37m\u001b[0m \u001b[1m21s\u001b[0m 27ms/step - accuracy: 0.8647 - loss: 0.3410\n",
            "\u001b[1m782/782\u001b[0m \u001b[32m━━━━━━━━━━━━━━━━━━━━\u001b[0m\u001b[37m\u001b[0m \u001b[1m18s\u001b[0m 24ms/step - accuracy: 0.8528 - loss: 0.4880\n",
            "Modelo sencillo - Precisión: 86.66%\n",
            "Modelo mejorado - Precisión: 85.54%\n"
          ]
        }
      ],
      "source": [
        "loss_base, acc_base = model.evaluate(x_test, y_test)\n",
        "loss_dl, acc_dl = model_dl.evaluate(x_test, y_test)\n",
        "print(f\"Modelo sencillo - Precisión: {acc_base*100:.2f}%\")\n",
        "print(f\"Modelo mejorado - Precisión: {acc_dl*100:.2f}%\")\n"
      ]
    },
    {
      "cell_type": "markdown",
      "metadata": {
        "id": "12GXliiwr_WQ"
      },
      "source": [
        "Los resultados obtenidos fueron los siguientes:\n",
        "Modelo sencillo - Precisión: 86.66%\n",
        "Modelo mejorado - Precisión: 85.54%"
      ]
    },
    {
      "cell_type": "markdown",
      "metadata": {
        "id": "j8B_0X7Fr_TP"
      },
      "source": [
        "## **8. Conclusiones**"
      ]
    },
    {
      "cell_type": "markdown",
      "metadata": {
        "id": "i_KVKCS2r_M-"
      },
      "source": [
        "\n",
        "1. El modelo al ser más complejo no necesariamente nos resultó siendo el mejor.\n",
        "2. A pesar de contar con el modelo mejorado con mayor profundidad , al usar capas comos Conv1D ,LSTM y capas densas, no ayudó a generalizar mejor que el modelo sencillo.\n",
        "3. Se construyó un modelo de red neuronal profunda utilizando capas Embedding, Conv1D, MaxPooling, LSTM y Dense.\n",
        "4. Aunque el modelo más profundo mostró una alta precisión en entrenamiento con un 97%, la precisión en validación se estabilizó y luego descendió de un 87.8% a 87.1%, lo que indicó un sobreajuste.\n",
        "5. Al comparar con un modelo sencillo es decir,solo capa de embedding y capa densa, se observó que este último obtiene ligeramente mejor precisión en test\n",
        " con un 86.66% que el modelo complejo con un 85.54%.Indicando que la mayor complejidad no implicó un mejor rendimiento, y más si no se controla el sobreajuste.\n"
      ]
    }
  ],
  "metadata": {
    "colab": {
      "provenance": [],
      "include_colab_link": true
    },
    "kernelspec": {
      "display_name": "Python 3",
      "name": "python3"
    },
    "language_info": {
      "name": "python"
    }
  },
  "nbformat": 4,
  "nbformat_minor": 0
}